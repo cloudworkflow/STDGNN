{
 "cells": [
  {
   "cell_type": "code",
   "outputs": [],
   "source": [
    "import numpy as np\n",
    "import torch\n",
    "import torch.nn as nn\n",
    "from torch.autograd import Variable\n",
    "data=np.load(\"./data/PEMS04/pems04.npz\")\n",
    "data=data['data'][:,:,0]"
   ],
   "metadata": {
    "collapsed": false
   },
   "id": "1e84d4ba50442d16",
   "execution_count": null
  },
  {
   "cell_type": "code",
   "outputs": [],
   "source": [
    "data.shape"
   ],
   "metadata": {
    "collapsed": false
   },
   "id": "444137fb8f5dec1f",
   "execution_count": null
  },
  {
   "cell_type": "code",
   "outputs": [],
   "source": [
    "import pandas as pd\n",
    "import numpy as np\n",
    "from sklearn.preprocessing import StandardScaler\n",
    "from sklearn.model_selection import train_test_split\n",
    "import torch\n",
    "from torch import nn\n",
    "import torch.optim as optim\n",
    "from torch.utils.data import DataLoader, Dataset\n",
    "from sklearn.metrics import mean_squared_error, mean_absolute_error, r2_score\n",
    "from math import sqrt\n",
    "\n",
    "X=data\n",
    "y=data\n",
    "scaler = StandardScaler()\n",
    "X_scaled = scaler.fit_transform(X)\n",
    "\n",
    "# Create sequences for 12-to-12 prediction\n",
    "def create_sequences(X, y, input_time_steps=12, output_time_steps=12):\n",
    "    Xs, ys = [], []\n",
    "    for i in range(len(X) - input_time_steps - output_time_steps + 1):\n",
    "        Xs.append(X[i:(i + input_time_steps)])\n",
    "        ys.append(y[(i + input_time_steps):(i + input_time_steps + output_time_steps)])\n",
    "    return np.array(Xs), np.array(ys)\n",
    "\n",
    "X_seq, y_seq = create_sequences(X_scaled, y)\n",
    "\n",
    "# Split the dataset\n",
    "X_train_seq, X_test_seq, y_train_seq, y_test_seq = train_test_split(X_seq, y_seq, test_size=0.2, random_state=42)\n",
    "\n",
    "# Dataset class\n",
    "class MatchDatasetSeq(Dataset):\n",
    "    def __init__(self, X, y):\n",
    "        self.X = torch.tensor(X, dtype=torch.float32)\n",
    "        self.y = torch.tensor(y, dtype=torch.float32)\n",
    "\n",
    "    def __len__(self):\n",
    "        return len(self.X)\n",
    "\n",
    "    def __getitem__(self, idx):\n",
    "        return self.X[idx], self.y[idx]\n",
    "\n",
    "# Loaders\n",
    "batch_size = 64\n",
    "train_dataset_seq = MatchDatasetSeq(X_train_seq, y_train_seq)\n",
    "test_dataset_seq = MatchDatasetSeq(X_test_seq, y_test_seq)\n",
    "\n",
    "train_loader_seq = DataLoader(train_dataset_seq, batch_size=batch_size, shuffle=False)\n",
    "test_loader_seq = DataLoader(test_dataset_seq, batch_size=batch_size, shuffle=False)\n",
    "\n",
    "# LSTM model\n",
    "class Attention(nn.Module):\n",
    "    def __init__(self, hidden_dim):\n",
    "        super(Attention, self).__init__()\n",
    "        self.hidden_dim = hidden_dim\n",
    "        self.attention = nn.Linear(hidden_dim, 1)\n",
    "\n",
    "    def forward(self, lstm_output):\n",
    "        # lstm_output: [batch_size, seq_len, hidden_dim]\n",
    "        attention_weights = self.attention(lstm_output)\n",
    "        attention_weights = torch.softmax(attention_weights, dim=1)\n",
    "        # [batch_size, seq_len, 1]\n",
    "        context_vector = attention_weights * lstm_output\n",
    "        context_vector = torch.sum(context_vector, dim=1)\n",
    "        # [batch_size, hidden_dim]\n",
    "        return context_vector, attention_weights\n",
    "\n",
    "class LSTMModel(nn.Module):\n",
    "    def __init__(self, input_dim, hidden_dim, num_layers, output_dim):\n",
    "        super(LSTMModel, self).__init__()\n",
    "        self.hidden_dim = hidden_dim\n",
    "        self.num_layers = num_layers\n",
    "        \n",
    "        self.lstm = nn.LSTM(input_dim, hidden_dim, num_layers, batch_first=True)\n",
    "        self.attention = Attention(hidden_dim)  # Add attention mechanism here\n",
    "        self.fc = nn.Linear(hidden_dim, output_dim * 12)  # Adjusted for the output dimension\n",
    "\n",
    "    def forward(self, x):\n",
    "        h0 = torch.zeros(self.num_layers, x.size(0), self.hidden_dim).requires_grad_()\n",
    "        c0 = torch.zeros(self.num_layers, x.size(0), self.hidden_dim).requires_grad_()\n",
    "        lstm_out, (hn, cn) = self.lstm(x, (h0.detach(), c0.detach()))\n",
    "        \n",
    "        # Apply attention\n",
    "        context_vector, attention_weights = self.attention(lstm_out)\n",
    "        \n",
    "        out = self.fc(context_vector)\n",
    "        out = out.view(x.size(0), 12, -1)  # Reshape to (batch_size, output_time_steps, output_dim)\n",
    "        return out, attention_weights\n"
   ],
   "metadata": {
    "collapsed": false
   },
   "id": "59803ced092c19ec",
   "execution_count": null
  },
  {
   "cell_type": "markdown",
   "source": [
    "# 初始化模型"
   ],
   "metadata": {
    "collapsed": false
   },
   "id": "8d1d97867f780dd9"
  },
  {
   "cell_type": "code",
   "outputs": [],
   "source": [
    "model = torch.load('model.pkl')"
   ],
   "metadata": {
    "collapsed": false
   },
   "id": "a53c7559a1506c85",
   "execution_count": null
  },
  {
   "cell_type": "code",
   "outputs": [],
   "source": [
    "model"
   ],
   "metadata": {
    "collapsed": false
   },
   "id": "762a92bbd88b35f8",
   "execution_count": null
  },
  {
   "cell_type": "code",
   "outputs": [],
   "source": [
    "input_dim = X_train_seq.shape[2]\n",
    "hidden_dim = 100\n",
    "num_layers = 2\n",
    "output_dim = y_train_seq.shape[2]\n",
    "\n",
    "model = LSTMModel(input_dim, hidden_dim, num_layers, output_dim)\n",
    "loss_function = nn.MSELoss()\n",
    "optimizer = optim.Adam(model.parameters(), lr=0.01)\n",
    "\n",
    "# Training loop\n",
    "num_epochs = 100\n",
    "for epoch in range(num_epochs):\n",
    "    print(model)\n",
    "    model.train()\n",
    "    for inputs, labels in train_loader_seq:\n",
    "        optimizer.zero_grad()\n",
    "        outputs, attention_weights = model(inputs)\n",
    "        loss = loss_function(outputs, labels)\n",
    "        loss.backward()\n",
    "        optimizer.step()\n",
    "    print(f'Epoch {epoch+1}, Loss: {loss.item()}')\n",
    "\n",
    "torch.save(model, 'model.pkl')\n",
    "# Evaluation\n",
    "model.eval()\n",
    "with torch.no_grad():\n",
    "    all_preds = []\n",
    "    all_labels = []\n",
    "    for inputs, labels in test_loader_seq:\n",
    "        outputs, attention_weights = model(inputs)\n",
    "        all_preds.extend(outputs.numpy())\n",
    "        all_labels.extend(labels.numpy())\n",
    "\n",
    "all_preds = np.array(all_preds)\n",
    "all_labels = np.array(all_labels)\n",
    "\n",
    "mse = mean_squared_error(all_labels.reshape(-1), all_preds.reshape(-1))\n",
    "rmse = sqrt(mse)\n",
    "mae = mean_absolute_error(all_labels.reshape(-1), all_preds.reshape(-1))\n",
    "r2 = r2_score(all_labels.reshape(-1), all_preds.reshape(-1))\n",
    "\n",
    "print(f'RMSE: {rmse}')\n",
    "print(f'MAE: {mae}')\n",
    "print(f'R^2: {r2}')"
   ],
   "metadata": {
    "collapsed": false
   },
   "id": "72e7f65e521a06a8"
  }
 ],
 "metadata": {
  "kernelspec": {
   "display_name": "Python 3 (ipykernel)",
   "language": "python",
   "name": "python3"
  },
  "language_info": {
   "codemirror_mode": {
    "name": "ipython",
    "version": 3
   },
   "file_extension": ".py",
   "mimetype": "text/x-python",
   "name": "python",
   "nbconvert_exporter": "python",
   "pygments_lexer": "ipython3",
   "version": "3.11.4"
  }
 },
 "nbformat": 4,
 "nbformat_minor": 5
}
