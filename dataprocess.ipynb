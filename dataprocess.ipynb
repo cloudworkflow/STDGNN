{
 "cells": [
  {
   "cell_type": "code",
   "outputs": [
    {
     "data": {
      "text/plain": "                   business_id   date_time  reviewer_id  text_length_month  \\\n0       -00d-Qb0q2TcWn-8LBHDZg  2012-09-30            1              229.0   \n1       -00d-Qb0q2TcWn-8LBHDZg  2012-10-31            2               98.5   \n2       -00d-Qb0q2TcWn-8LBHDZg  2012-11-30            1               56.0   \n3       -00d-Qb0q2TcWn-8LBHDZg  2012-12-31            0                NaN   \n4       -00d-Qb0q2TcWn-8LBHDZg  2013-01-31            0                NaN   \n...                        ...         ...          ...                ...   \n266350  zyNQhunb1mcSUUbnqVcU1w  2019-10-31            0                NaN   \n266351  zyNQhunb1mcSUUbnqVcU1w  2019-11-30            1              127.0   \n266352  zyNQhunb1mcSUUbnqVcU1w  2019-12-31            0                NaN   \n266353  zyNQhunb1mcSUUbnqVcU1w  2020-01-31            0                NaN   \n266354  zyNQhunb1mcSUUbnqVcU1w  2020-02-29            1               43.0   \n\n        starts_month  engagement_month  tastiness_score_month  \\\n0                5.0              12.0               0.850468   \n1                5.0              17.0               0.284572   \n2                4.0               4.0               0.818024   \n3                NaN               NaN                    NaN   \n4                NaN               NaN                    NaN   \n...              ...               ...                    ...   \n266350           NaN               NaN                    NaN   \n266351           4.0               0.0               0.815822   \n266352           NaN               NaN                    NaN   \n266353           NaN               NaN                    NaN   \n266354           3.0               0.0               0.511871   \n\n        service_score_month  location_score_month  price_score_month  \\\n0                  0.562493              0.636740           0.462875   \n1                  0.123267              0.361571           0.113569   \n2                  0.667397              0.594720           0.919603   \n3                       NaN                   NaN                NaN   \n4                       NaN                   NaN                NaN   \n...                     ...                   ...                ...   \n266350                  NaN                   NaN                NaN   \n266351             0.734018              0.527671           0.678694   \n266352                  NaN                   NaN                NaN   \n266353                  NaN                   NaN                NaN   \n266354             0.470379              0.529636           0.498316   \n\n        atmosphere_score_month  general_score_month  \n0                     0.388009             0.580117  \n1                     0.226247             0.221845  \n2                     0.601348             0.720218  \n3                          NaN                  NaN  \n4                          NaN                  NaN  \n...                        ...                  ...  \n266350                     NaN                  NaN  \n266351                0.601340             0.671509  \n266352                     NaN                  NaN  \n266353                     NaN                  NaN  \n266354                0.529887             0.508018  \n\n[266355 rows x 12 columns]",
      "text/html": "<div>\n<style scoped>\n    .dataframe tbody tr th:only-of-type {\n        vertical-align: middle;\n    }\n\n    .dataframe tbody tr th {\n        vertical-align: top;\n    }\n\n    .dataframe thead th {\n        text-align: right;\n    }\n</style>\n<table border=\"1\" class=\"dataframe\">\n  <thead>\n    <tr style=\"text-align: right;\">\n      <th></th>\n      <th>business_id</th>\n      <th>date_time</th>\n      <th>reviewer_id</th>\n      <th>text_length_month</th>\n      <th>starts_month</th>\n      <th>engagement_month</th>\n      <th>tastiness_score_month</th>\n      <th>service_score_month</th>\n      <th>location_score_month</th>\n      <th>price_score_month</th>\n      <th>atmosphere_score_month</th>\n      <th>general_score_month</th>\n    </tr>\n  </thead>\n  <tbody>\n    <tr>\n      <th>0</th>\n      <td>-00d-Qb0q2TcWn-8LBHDZg</td>\n      <td>2012-09-30</td>\n      <td>1</td>\n      <td>229.0</td>\n      <td>5.0</td>\n      <td>12.0</td>\n      <td>0.850468</td>\n      <td>0.562493</td>\n      <td>0.636740</td>\n      <td>0.462875</td>\n      <td>0.388009</td>\n      <td>0.580117</td>\n    </tr>\n    <tr>\n      <th>1</th>\n      <td>-00d-Qb0q2TcWn-8LBHDZg</td>\n      <td>2012-10-31</td>\n      <td>2</td>\n      <td>98.5</td>\n      <td>5.0</td>\n      <td>17.0</td>\n      <td>0.284572</td>\n      <td>0.123267</td>\n      <td>0.361571</td>\n      <td>0.113569</td>\n      <td>0.226247</td>\n      <td>0.221845</td>\n    </tr>\n    <tr>\n      <th>2</th>\n      <td>-00d-Qb0q2TcWn-8LBHDZg</td>\n      <td>2012-11-30</td>\n      <td>1</td>\n      <td>56.0</td>\n      <td>4.0</td>\n      <td>4.0</td>\n      <td>0.818024</td>\n      <td>0.667397</td>\n      <td>0.594720</td>\n      <td>0.919603</td>\n      <td>0.601348</td>\n      <td>0.720218</td>\n    </tr>\n    <tr>\n      <th>3</th>\n      <td>-00d-Qb0q2TcWn-8LBHDZg</td>\n      <td>2012-12-31</td>\n      <td>0</td>\n      <td>NaN</td>\n      <td>NaN</td>\n      <td>NaN</td>\n      <td>NaN</td>\n      <td>NaN</td>\n      <td>NaN</td>\n      <td>NaN</td>\n      <td>NaN</td>\n      <td>NaN</td>\n    </tr>\n    <tr>\n      <th>4</th>\n      <td>-00d-Qb0q2TcWn-8LBHDZg</td>\n      <td>2013-01-31</td>\n      <td>0</td>\n      <td>NaN</td>\n      <td>NaN</td>\n      <td>NaN</td>\n      <td>NaN</td>\n      <td>NaN</td>\n      <td>NaN</td>\n      <td>NaN</td>\n      <td>NaN</td>\n      <td>NaN</td>\n    </tr>\n    <tr>\n      <th>...</th>\n      <td>...</td>\n      <td>...</td>\n      <td>...</td>\n      <td>...</td>\n      <td>...</td>\n      <td>...</td>\n      <td>...</td>\n      <td>...</td>\n      <td>...</td>\n      <td>...</td>\n      <td>...</td>\n      <td>...</td>\n    </tr>\n    <tr>\n      <th>266350</th>\n      <td>zyNQhunb1mcSUUbnqVcU1w</td>\n      <td>2019-10-31</td>\n      <td>0</td>\n      <td>NaN</td>\n      <td>NaN</td>\n      <td>NaN</td>\n      <td>NaN</td>\n      <td>NaN</td>\n      <td>NaN</td>\n      <td>NaN</td>\n      <td>NaN</td>\n      <td>NaN</td>\n    </tr>\n    <tr>\n      <th>266351</th>\n      <td>zyNQhunb1mcSUUbnqVcU1w</td>\n      <td>2019-11-30</td>\n      <td>1</td>\n      <td>127.0</td>\n      <td>4.0</td>\n      <td>0.0</td>\n      <td>0.815822</td>\n      <td>0.734018</td>\n      <td>0.527671</td>\n      <td>0.678694</td>\n      <td>0.601340</td>\n      <td>0.671509</td>\n    </tr>\n    <tr>\n      <th>266352</th>\n      <td>zyNQhunb1mcSUUbnqVcU1w</td>\n      <td>2019-12-31</td>\n      <td>0</td>\n      <td>NaN</td>\n      <td>NaN</td>\n      <td>NaN</td>\n      <td>NaN</td>\n      <td>NaN</td>\n      <td>NaN</td>\n      <td>NaN</td>\n      <td>NaN</td>\n      <td>NaN</td>\n    </tr>\n    <tr>\n      <th>266353</th>\n      <td>zyNQhunb1mcSUUbnqVcU1w</td>\n      <td>2020-01-31</td>\n      <td>0</td>\n      <td>NaN</td>\n      <td>NaN</td>\n      <td>NaN</td>\n      <td>NaN</td>\n      <td>NaN</td>\n      <td>NaN</td>\n      <td>NaN</td>\n      <td>NaN</td>\n      <td>NaN</td>\n    </tr>\n    <tr>\n      <th>266354</th>\n      <td>zyNQhunb1mcSUUbnqVcU1w</td>\n      <td>2020-02-29</td>\n      <td>1</td>\n      <td>43.0</td>\n      <td>3.0</td>\n      <td>0.0</td>\n      <td>0.511871</td>\n      <td>0.470379</td>\n      <td>0.529636</td>\n      <td>0.498316</td>\n      <td>0.529887</td>\n      <td>0.508018</td>\n    </tr>\n  </tbody>\n</table>\n<p>266355 rows × 12 columns</p>\n</div>"
     },
     "execution_count": 1,
     "metadata": {},
     "output_type": "execute_result"
    }
   ],
   "source": [
    "import pandas as pd\n",
    "        \n",
    "源文件 = pd.read_csv('data/BOSTON/源文件.csv')\n",
    "源文件"
   ],
   "metadata": {
    "collapsed": false,
    "ExecuteTime": {
     "end_time": "2024-02-28T05:56:11.275071400Z",
     "start_time": "2024-02-28T05:56:10.809492800Z"
    }
   },
   "id": "8c841d6c844259c0",
   "execution_count": 1
  },
  {
   "cell_type": "code",
   "outputs": [],
   "source": [
    "#df对象中除了编码前列和business_id列和date_time列，其余列都*1000\n",
    "df.iloc[:,2:]=df.iloc[:,2:]*1000\n",
    "df['编码前'] = df.groupby('id').ngroup()\n",
    "df.head()"
   ],
   "metadata": {
    "collapsed": false
   },
   "id": "34c5170d271ef86d"
  },
  {
   "cell_type": "code",
   "outputs": [
    {
     "data": {
      "text/plain": "(17856, 170, 3)"
     },
     "execution_count": 5,
     "metadata": {},
     "output_type": "execute_result"
    }
   ],
   "source": [
    "import numpy as np\n",
    "pems=np.load(\"data/PEMS08/pems08.npz\")\n",
    "pems[\"data\"].shape"
   ],
   "metadata": {
    "collapsed": false,
    "ExecuteTime": {
     "end_time": "2024-03-29T11:32:09.001937900Z",
     "start_time": "2024-03-29T11:32:08.799137800Z"
    }
   },
   "id": "736ee7d4d95cb4da",
   "execution_count": 5
  },
  {
   "cell_type": "code",
   "outputs": [],
   "source": [
    "rearranged = pems[\"data\"][:, :, [1, 2, 0]]\n",
    "np.savez(\"data/PEMS08/pems08.npz\", data=rearranged)"
   ],
   "metadata": {
    "collapsed": false,
    "ExecuteTime": {
     "end_time": "2024-03-29T11:32:16.992046300Z",
     "start_time": "2024-03-29T11:32:16.695010800Z"
    }
   },
   "id": "c313e312db651dbb",
   "execution_count": 6
  },
  {
   "cell_type": "code",
   "outputs": [],
   "source": [],
   "metadata": {
    "collapsed": false
   },
   "id": "3703f4c1fca9d3fc"
  }
 ],
 "metadata": {
  "kernelspec": {
   "display_name": "Python 3",
   "language": "python",
   "name": "python3"
  },
  "language_info": {
   "codemirror_mode": {
    "name": "ipython",
    "version": 2
   },
   "file_extension": ".py",
   "mimetype": "text/x-python",
   "name": "python",
   "nbconvert_exporter": "python",
   "pygments_lexer": "ipython2",
   "version": "2.7.6"
  }
 },
 "nbformat": 4,
 "nbformat_minor": 5
}
